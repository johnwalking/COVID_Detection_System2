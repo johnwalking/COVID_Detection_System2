{
 "cells": [
  {
   "cell_type": "code",
   "execution_count": 1,
   "metadata": {},
   "outputs": [],
   "source": [
    "# import the necessary packages\n",
    "from tensorflow.keras.preprocessing.image import ImageDataGenerator\n",
    "from tensorflow.keras.applications import VGG16\n",
    "from tensorflow.keras.layers import Activation, Dropout,Dense, Flatten, BatchNormalization, Conv2D, MaxPooling2D, Lambda, Input, AveragePooling2D\n",
    "from tensorflow.keras.layers import Dropout\n",
    "from tensorflow.keras.layers import Flatten\n",
    "from tensorflow.keras.layers import Dense\n",
    "from tensorflow.keras.layers import Input\n",
    "from tensorflow.keras.models import Model, Sequential\n",
    "from keras.callbacks import ReduceLROnPlateau, LearningRateScheduler\n",
    "from tensorflow.keras.optimizers import Adam\n",
    "from tensorflow.keras.utils import to_categorical\n",
    "from sklearn.preprocessing import LabelBinarizer\n",
    "from sklearn.model_selection import train_test_split\n",
    "from sklearn.metrics import classification_report\n",
    "from sklearn.metrics import confusion_matrix\n",
    "from imutils import paths\n",
    "import matplotlib.pyplot as plt\n",
    "import pandas as pd\n",
    "import numpy as np\n",
    "import random\n",
    "import shutil\n",
    "import cv2\n",
    "import os"
   ]
  },
  {
   "cell_type": "code",
   "execution_count": 3,
   "metadata": {},
   "outputs": [],
   "source": [
    "dataset_path = './dataset'\n",
    "samples = 25\n",
    "covid_dataset_path = './origin'\n",
    "# read  \"metadata.csv\" and find the target image\n",
    "csvPath = os.path.sep.join([covid_dataset_path, \"metadata.csv\"])\n",
    "df = pd.read_csv(csvPath)\n",
    "for (i, row) in df.iterrows():\n",
    "    # check the current case is not COVID-19 \n",
    "    if row[\"finding\"] != \"COVID-19\" or row[\"view\"] != \"PA\":\n",
    "        continue\n",
    "# set the picture path for reading.\n",
    "    imagePath = os.path.sep.join([covid_dataset_path, \"images\", row[\"filename\"]])\n",
    "# if the input image file does not exist\n",
    "    if not os.path.exists(imagePath):\n",
    "        continue\n",
    "# get the name and set the new location for train \n",
    "    filename = row[\"filename\"].split(os.path.sep)[-1]\n",
    "    outputPath = os.path.sep.join([f\"{dataset_path}/covid\", filename])\n",
    "# copy the image to location\n",
    "    shutil.copy2(imagePath, outputPath)"
   ]
  },
  {
   "cell_type": "code",
   "execution_count": 4,
   "metadata": {},
   "outputs": [],
   "source": [
    "#normal資料集我是用手動下載\n",
    "normal_images = list(paths.list_images(f\"{dataset_path}/normal\"))\n",
    "covid_images = list(paths.list_images(f\"{dataset_path}/covid\"))"
   ]
  },
  {
   "cell_type": "code",
   "execution_count": 17,
   "metadata": {},
   "outputs": [
    {
     "name": "stdout",
     "output_type": "stream",
     "text": [
      "36 141\n"
     ]
    }
   ],
   "source": [
    "print(len(normal_images), len(covid_images))"
   ]
  },
  {
   "cell_type": "code",
   "execution_count": 10,
   "metadata": {},
   "outputs": [
    {
     "name": "stdout",
     "output_type": "stream",
     "text": [
      "[INFO] loading images...\n"
     ]
    }
   ],
   "source": [
    "INIT_LR = 1e-3\n",
    "EPOCHS = 10\n",
    "BS = 8\n",
    "print(\"[INFO] loading images...\")\n",
    "imagePaths = list(paths.list_images(dataset_path))\n",
    "data = []\n",
    "labels = []\n",
    "# loop over the image paths\n",
    "for imagePath in imagePaths:\n",
    "    # extract the class label from the filename\n",
    "    label = imagePath.split(os.path.sep)[-2]\n",
    "    # load the image, swap color channels, and resize it to be a fixed\n",
    "    # 224x224 pixels while ignoring aspect ratio\n",
    "    image = cv2.imread(imagePath)\n",
    "    image = cv2.cvtColor(image, cv2.COLOR_BGR2RGB)\n",
    "    image = cv2.resize(image, (224, 224))\n",
    "    # update the data and labels lists, respectively\n",
    "    data.append(image)\n",
    "    labels.append(label)\n",
    "# convert the data and labels to NumPy arrays while scaling the pixel\n",
    "# intensities to the range [0, 1]\n",
    "data = np.array(data) / 255.0\n",
    "labels = np.array(labels)"
   ]
  },
  {
   "cell_type": "code",
   "execution_count": 11,
   "metadata": {},
   "outputs": [],
   "source": [
    "lb = LabelBinarizer()\n",
    "labels = lb.fit_transform(labels)\n",
    "labels = to_categorical(labels)\n",
    "(trainX, testX, trainY, testY) = train_test_split(data, labels, test_size=0.20, stratify=labels, random_state=42)\n",
    "\n",
    "trainAug = ImageDataGenerator(rotation_range=20, fill_mode=\"nearest\")"
   ]
  },
  {
   "cell_type": "code",
   "execution_count": 12,
   "metadata": {},
   "outputs": [],
   "source": [
    "baseModel = VGG16(weights=\"./vgg16_weight/vgg16_weights_tf_dim_ordering_tf_kernels_notop.h5\", include_top=False, input_tensor=Input(shape=(224, 224, 3)))\n",
    "# construct the head of the model that will be placed on top of the\n",
    "# the base model\n",
    "headModel = baseModel.output\n",
    "headModel = AveragePooling2D(pool_size=(4, 4))(headModel)\n",
    "headModel = Flatten(name=\"flatten\")(headModel)\n",
    "headModel = Dense(128, activation=\"relu\")(headModel)\n",
    "headModel = Dropout(0.6)(headModel)\n",
    "headModel = Dense(2, activation=\"softmax\")(headModel)\n",
    "\n",
    "model = Model(inputs=baseModel.input, outputs=headModel)\n",
    "# if set false means the parameters in the layer will not change\n",
    "for layer in baseModel.layers:\n",
    "    layer.trainable = False"
   ]
  },
  {
   "cell_type": "code",
   "execution_count": 14,
   "metadata": {},
   "outputs": [
    {
     "name": "stdout",
     "output_type": "stream",
     "text": [
      "Epoch 1/10\n",
      "17/17 [==============================] - 51s 3s/step - loss: 0.4721 - accuracy: 0.7895 - val_loss: 0.4066 - val_accuracy: 0.8056\n",
      "Epoch 2/10\n",
      "17/17 [==============================] - 51s 3s/step - loss: 0.4382 - accuracy: 0.8045 - val_loss: 0.3500 - val_accuracy: 0.8056\n",
      "Epoch 3/10\n",
      "17/17 [==============================] - 50s 3s/step - loss: 0.3554 - accuracy: 0.8496 - val_loss: 0.2947 - val_accuracy: 0.9444\n",
      "Epoch 4/10\n",
      "17/17 [==============================] - 52s 3s/step - loss: 0.2524 - accuracy: 0.8947 - val_loss: 0.2538 - val_accuracy: 0.9444\n",
      "Epoch 5/10\n",
      "17/17 [==============================] - 49s 3s/step - loss: 0.2337 - accuracy: 0.9173 - val_loss: 0.2270 - val_accuracy: 0.9722\n",
      "Epoch 6/10\n",
      "17/17 [==============================] - 47s 3s/step - loss: 0.1946 - accuracy: 0.9624 - val_loss: 0.2069 - val_accuracy: 0.9722\n",
      "Epoch 7/10\n",
      "17/17 [==============================] - 46s 3s/step - loss: 0.1442 - accuracy: 0.9699 - val_loss: 0.1796 - val_accuracy: 0.9722\n",
      "Epoch 8/10\n",
      "17/17 [==============================] - 47s 3s/step - loss: 0.1659 - accuracy: 0.9248 - val_loss: 0.1656 - val_accuracy: 0.9722\n",
      "Epoch 9/10\n",
      "17/17 [==============================] - 48s 3s/step - loss: 0.1454 - accuracy: 0.9474 - val_loss: 0.1561 - val_accuracy: 0.9722\n",
      "Epoch 10/10\n",
      "17/17 [==============================] - 59s 4s/step - loss: 0.1176 - accuracy: 0.9624 - val_loss: 0.1505 - val_accuracy: 0.9722\n"
     ]
    }
   ],
   "source": [
    "opt = Adam(lr=INIT_LR, decay=INIT_LR / EPOCHS)\n",
    "model.compile(loss=\"categorical_crossentropy\", optimizer=opt, metrics=[\"accuracy\"])\n",
    "record  = model.fit_generator(\n",
    "    trainAug.flow(trainX, trainY, batch_size=BS),\n",
    "    steps_per_epoch=len(trainX) // BS,\n",
    "    validation_data=(testX, testY),\n",
    "    validation_steps=len(testX) // BS,\n",
    "    epochs=EPOCHS)"
   ]
  },
  {
   "cell_type": "code",
   "execution_count": 15,
   "metadata": {},
   "outputs": [
    {
     "data": {
      "image/png": "[encoded data removed]",
      "text/plain": [
       "<Figure size 432x288 with 1 Axes>"
      ]
     },
     "metadata": {
      "needs_background": "light"
     },
     "output_type": "display_data"
    }
   ],
   "source": [
    "accs = record.history['accuracy']\n",
    "val_accs = record.history['val_accuracy']\n",
    "\n",
    "plt.plot(range(len(accs)),accs, label = 'Training_accuracy')\n",
    "plt.plot(range(len(accs)),val_accs, label = 'Validation_accuracy')\n",
    "plt.ylabel('accuracy')\n",
    "plt.xlabel('epochs')\n",
    "plt.legend()\n",
    "plt.show()"
   ]
  },
  {
   "cell_type": "code",
   "execution_count": 16,
   "metadata": {},
   "outputs": [
    {
     "data": {
      "image/png": "[encoded data removed]",
      "text/plain": [
       "<Figure size 432x288 with 1 Axes>"
      ]
     },
     "metadata": {
      "needs_background": "light"
     },
     "output_type": "display_data"
    }
   ],
   "source": [
    "loss = record.history['loss']\n",
    "val_loss = record.history['val_loss']\n",
    "\n",
    "plt.plot(range(len(accs)),loss, label = 'Training_loss')\n",
    "plt.plot(range(len(accs)),val_loss, label = 'Validation_loss')\n",
    "plt.ylabel('loss')\n",
    "plt.xlabel('epochs')\n",
    "plt.legend()\n",
    "plt.show()"
   ]
  },
  {
   "cell_type": "code",
   "execution_count": null,
   "metadata": {},
   "outputs": [],
   "source": [
    "model.save('./vgg16_weight/covid_19_model.h5')"
   ]
  }
 ],
 "metadata": {
  "kernelspec": {
   "display_name": "Python 3",
   "language": "python",
   "name": "python3"
  },
  "language_info": {
   "codemirror_mode": {
    "name": "ipython",
    "version": 3
   },
   "file_extension": ".py",
   "mimetype": "text/x-python",
   "name": "python",
   "nbconvert_exporter": "python",
   "pygments_lexer": "ipython3",
   "version": "3.7.3"
  }
 },
 "nbformat": 4,
 "nbformat_minor": 2
}
